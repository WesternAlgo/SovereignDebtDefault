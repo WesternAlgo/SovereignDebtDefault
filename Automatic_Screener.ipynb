{
 "cells": [
  {
   "cell_type": "code",
   "execution_count": 76,
   "id": "d589a4e2",
   "metadata": {},
   "outputs": [],
   "source": [
    "# Imports\n",
    "\n",
    "import pandas as pd\n",
    "import matplotlib as mlp\n",
    "import requests\n",
    "import pprint\n"
   ]
  },
  {
   "cell_type": "code",
   "execution_count": 77,
   "id": "277f1032",
   "metadata": {},
   "outputs": [],
   "source": [
    "# Getting list of all datasets and using a search term to narrow to what you are looking for\n",
    "\n",
    "#API link\n",
    "url = \"http://dataservices.imf.org/REST/SDMX_JSON.svc/\"\n",
    "key = 'dataflow'\n",
    "\n",
    "#Request function\n",
    "dataset = requests.get(f'{url}{key}').json()\\\n",
    "        ['Structure']['Dataflows']['Dataflow']\n",
    "\n",
    "#Search term\n",
    "search_term = 'CPI'\n"
   ]
  },
  {
   "cell_type": "markdown",
   "id": "b066de3d",
   "metadata": {},
   "source": [
    "#### Finding datasets according to search term"
   ]
  },
  {
   "cell_type": "code",
   "execution_count": 78,
   "id": "e891a0e5",
   "metadata": {
    "scrolled": false
   },
   "outputs": [
    {
     "name": "stdout",
     "output_type": "stream",
     "text": [
      "Consumer Price Index (CPI): CPI\n",
      "Coordinated Portfolio Investment Survey (CPIS): CPIS\n"
     ]
    }
   ],
   "source": [
    "data_list = []\n",
    "\n",
    "for item in dataset:\n",
    "    \n",
    "    #Run through each elemnt in dictionary and checks if same term found in #text\n",
    "    if search_term in item['Name']['#text']:\n",
    "        \n",
    "        print(f\"{item['Name']['#text']}: {item['KeyFamilyRef']['KeyFamilyID']}\")\n",
    "        data_list.append(item['KeyFamilyRef']['KeyFamilyID'])"
   ]
  },
  {
   "cell_type": "markdown",
   "id": "c9639d39",
   "metadata": {},
   "source": [
    "#### Finding the dimensions"
   ]
  },
  {
   "cell_type": "code",
   "execution_count": 79,
   "id": "8b3c5896",
   "metadata": {
    "scrolled": true
   },
   "outputs": [
    {
     "name": "stdout",
     "output_type": "stream",
     "text": [
      "Dimension 1: CL_FREQ\n",
      "Dimension 2: CL_AREA_CPI\n",
      "Dimension 3: CL_INDICATOR_CPI\n"
     ]
    }
   ],
   "source": [
    "#Manually entered key with dataset ID of latest year available\n",
    "dataset_name = 'CPI'\n",
    "\n",
    "key = 'DataStructure/'\n",
    "\n",
    "#Catching all dimensions (How the data itself is categorized)\n",
    "dimension_list = requests.get(f'{url}{key}{dataset_name}').json()\\\n",
    "                    ['Structure']['KeyFamilies']['KeyFamily']\\\n",
    "                    ['Components']['Dimension']\n",
    "                              \n",
    "\n",
    "#Printing number of dimensions & the code\n",
    "for n, dimension in enumerate(dimension_list):\n",
    "    print(f'Dimension {n+1}: {dimension[\"@codelist\"]}')\n",
    "    \n",
    "    #Usually the last dimension is the dimension for the indicator which is saved\n",
    "    indicator_term = dimension[\"@codelist\"]"
   ]
  },
  {
   "cell_type": "markdown",
   "id": "de364903",
   "metadata": {},
   "source": [
    "#### Pulling the indicators"
   ]
  },
  {
   "cell_type": "code",
   "execution_count": 80,
   "id": "3410cf25",
   "metadata": {},
   "outputs": [
    {
     "name": "stdout",
     "output_type": "stream",
     "text": [
      "Error: 404 - ﻿<?xml version=\"1.0\" encoding=\"utf-8\"?>\r\n",
      "<!DOCTYPE html PUBLIC \"-//W3C//DTD XHTML 1.0 Transitional//EN\" \"http://www.w3.org/TR/xhtml1/DTD/xhtml1-transitional.dtd\">\r\n",
      "<html xmlns=\"http://www.w3.org/1999/xhtml\">\r\n",
      "  <head>\r\n",
      "    <title>Service</title>\r\n",
      "    <style>BODY { color: #000000; background-color: white; font-family: Verdana; margin-left: 0px; margin-top: 0px; } #content { margin-left: 30px; font-size: .70em; padding-bottom: 2em; } A:link { color: #336699; font-weight: bold; text-decoration: underline; } A:visited { color: #6699cc; font-weight: bold; text-decoration: underline; } A:active { color: #336699; font-weight: bold; text-decoration: underline; } .heading1 { background-color: #003366; border-bottom: #336699 6px solid; color: #ffffff; font-family: Tahoma; font-size: 26px; font-weight: normal;margin: 0em 0em 10px -20px; padding-bottom: 8px; padding-left: 30px;padding-top: 16px;} pre { font-size:small; background-color: #e5e5cc; padding: 5px; font-family: Courier New; margin-top: 0px; border: 1px #f0f0e0 solid; white-space: pre-wrap; white-space: -pre-wrap; word-wrap: break-word; } table { border-collapse: collapse; border-spacing: 0px; font-family: Verdana;} table th { border-right: 2px white solid; border-bottom: 2px white solid; font-weight: bold; background-color: #cecf9c;} table td { border-right: 2px white solid; border-bottom: 2px white solid; background-color: #e5e5cc;}</style>\r\n",
      "  </head>\r\n",
      "  <body>\r\n",
      "    <div id=\"content\">\r\n",
      "      <p class=\"heading1\">Service</p>\r\n",
      "      <p xmlns=\"\">Endpoint not found. Please see the <a rel=\"help-page\" href=\"http://dataservices.imf.org/REST/SDMX_JSON.svc/help\">service help page</a> for constructing valid requests to the service.</p>\r\n",
      "    </div>\r\n",
      "  </body>\r\n",
      "</html>\n"
     ]
    }
   ],
   "source": [
    "# Make a GET request\n",
    "response = requests.get(f'{url}{key}')\n",
    "\n",
    "# Check if the request was successful (status code 200)\n",
    "if response.status_code == 200:\n",
    "    # Use utf-8-sig encoding to handle BOM and decode the content\n",
    "    content = response.content.decode('utf-8-sig')\n",
    "    \n",
    "    # Load the JSON data\n",
    "    try:\n",
    "        data = json.loads(content)\n",
    "        dimension_names = data['Structure']\n",
    "        print(\"Dimension Names:\", dimension_names)\n",
    "    except json.JSONDecodeError as e:\n",
    "        print(f\"Error decoding JSON: {e}\")\n",
    "else:\n",
    "    print(f\"Error: {response.status_code} - {response.text}\")"
   ]
  },
  {
   "cell_type": "code",
   "execution_count": 81,
   "id": "8ec2b148",
   "metadata": {
    "scrolled": false
   },
   "outputs": [],
   "source": [
    "#Requesting data to capture all indicators from that dataset\n",
    "#dimension_names = requests.get(f'{url}{key}').json()['Structure']['CodeLists']['CodeList']\n",
    "\n",
    "    \n",
    "#List for indicator list and indicator description respectively\n",
    "indicator_list = []\n",
    "indicator_desc = []\n",
    "\n",
    "#For loop runs through list to find mathcing identifier to specified indicator term then grabs the code name and description\n",
    "for y in dimension_names:\n",
    "    if indicator_term in y['@id']:\n",
    "        \n",
    "        for u in y['Code']:\n",
    "            indicator_list.append(u.get('@value'))\n",
    "            indicator_desc.append(u['Description'].get(\"#text\"))"
   ]
  },
  {
   "cell_type": "code",
   "execution_count": 82,
   "id": "5a6701c7",
   "metadata": {},
   "outputs": [
    {
     "data": {
      "text/plain": [
       "'CL_INDICATOR_CPI'"
      ]
     },
     "execution_count": 82,
     "metadata": {},
     "output_type": "execute_result"
    }
   ],
   "source": [
    "indicator_term"
   ]
  },
  {
   "cell_type": "code",
   "execution_count": 83,
   "id": "a078b96c",
   "metadata": {},
   "outputs": [
    {
     "data": {
      "text/plain": [
       "[{'@id': 'CL_UNIT_MULT',\n",
       "  '@agencyID': 'IMF',\n",
       "  '@version': '1.0',\n",
       "  '@isFinal': 'true',\n",
       "  '@xmlns': 'http://www.SDMX.org/resources/SDMXML/schemas/v2_0/structure',\n",
       "  'Name': {'@xml:lang': 'en', '#text': 'Scale'}},\n",
       " {'@id': 'CL_FREQ',\n",
       "  '@agencyID': 'IMF',\n",
       "  '@version': '1.0',\n",
       "  '@isFinal': 'true',\n",
       "  '@xmlns': 'http://www.SDMX.org/resources/SDMXML/schemas/v2_0/structure',\n",
       "  'Name': {'@xml:lang': 'en', '#text': 'Frequency'},\n",
       "  'Description': {'@xml:lang': 'en', '#text': 'Frequency'},\n",
       "  'Code': [{'@value': 'A',\n",
       "    'Description': {'@xml:lang': 'en', '#text': 'Annual'}},\n",
       "   {'@value': 'B', 'Description': {'@xml:lang': 'en', '#text': 'Bi-annual'}},\n",
       "   {'@value': 'Q', 'Description': {'@xml:lang': 'en', '#text': 'Quarterly'}},\n",
       "   {'@value': 'M', 'Description': {'@xml:lang': 'en', '#text': 'Monthly'}},\n",
       "   {'@value': 'D', 'Description': {'@xml:lang': 'en', '#text': 'Daily'}},\n",
       "   {'@value': 'W', 'Description': {'@xml:lang': 'en', '#text': 'Weekly'}}]},\n",
       " {'@id': 'CL_AREA_APDREO',\n",
       "  '@agencyID': 'IMF',\n",
       "  '@version': '1.0',\n",
       "  '@isFinal': 'true',\n",
       "  '@xmlns': 'http://www.SDMX.org/resources/SDMXML/schemas/v2_0/structure',\n",
       "  'Name': {'@xml:lang': 'en', '#text': 'Geographical Areas'},\n",
       "  'Code': [{'@value': 'AU',\n",
       "    'Description': {'@xml:lang': 'en', '#text': 'Australia'}},\n",
       "   {'@value': 'BD', 'Description': {'@xml:lang': 'en', '#text': 'Bangladesh'}},\n",
       "   {'@value': 'BT', 'Description': {'@xml:lang': 'en', '#text': 'Bhutan'}},\n",
       "   {'@value': 'BN',\n",
       "    'Description': {'@xml:lang': 'en', '#text': 'Brunei Darussalam'}},\n",
       "   {'@value': 'KH', 'Description': {'@xml:lang': 'en', '#text': 'Cambodia'}},\n",
       "   {'@value': 'HK', 'Description': {'@xml:lang': 'en', '#text': 'Hong Kong'}},\n",
       "   {'@value': 'MO', 'Description': {'@xml:lang': 'en', '#text': 'Macao'}},\n",
       "   {'@value': 'CN', 'Description': {'@xml:lang': 'en', '#text': 'China'}},\n",
       "   {'@value': 'FJ', 'Description': {'@xml:lang': 'en', '#text': 'Fiji'}},\n",
       "   {'@value': 'IN', 'Description': {'@xml:lang': 'en', '#text': 'India'}},\n",
       "   {'@value': 'ID', 'Description': {'@xml:lang': 'en', '#text': 'Indonesia'}},\n",
       "   {'@value': 'JP', 'Description': {'@xml:lang': 'en', '#text': 'Japan'}},\n",
       "   {'@value': 'KI', 'Description': {'@xml:lang': 'en', '#text': 'Kiribati'}},\n",
       "   {'@value': 'KR',\n",
       "    'Description': {'@xml:lang': 'en', '#text': 'Korea, Republic of'}},\n",
       "   {'@value': 'LA',\n",
       "    'Description': {'@xml:lang': 'en',\n",
       "     '#text': 'Lao People`s Democratic Republic'}},\n",
       "   {'@value': 'MY', 'Description': {'@xml:lang': 'en', '#text': 'Malaysia'}},\n",
       "   {'@value': 'MV', 'Description': {'@xml:lang': 'en', '#text': 'Maldives'}},\n",
       "   {'@value': 'MH',\n",
       "    'Description': {'@xml:lang': 'en', '#text': 'Marshall islands'}},\n",
       "   {'@value': 'FM',\n",
       "    'Description': {'@xml:lang': 'en',\n",
       "     '#text': 'Micronesia, Federated States of'}},\n",
       "   {'@value': 'MN', 'Description': {'@xml:lang': 'en', '#text': 'Mongolia'}},\n",
       "   {'@value': 'MM', 'Description': {'@xml:lang': 'en', '#text': 'Myanmar'}},\n",
       "   {'@value': 'NP', 'Description': {'@xml:lang': 'en', '#text': 'Nepal'}},\n",
       "   {'@value': 'NZ',\n",
       "    'Description': {'@xml:lang': 'en', '#text': 'New Zealand'}},\n",
       "   {'@value': 'PW', 'Description': {'@xml:lang': 'en', '#text': 'Palau'}},\n",
       "   {'@value': 'PG',\n",
       "    'Description': {'@xml:lang': 'en', '#text': 'Papua New Guinea'}},\n",
       "   {'@value': 'PH',\n",
       "    'Description': {'@xml:lang': 'en', '#text': 'Philippines'}},\n",
       "   {'@value': 'WS', 'Description': {'@xml:lang': 'en', '#text': 'Samoa'}},\n",
       "   {'@value': 'SG', 'Description': {'@xml:lang': 'en', '#text': 'Singapore'}},\n",
       "   {'@value': 'SB',\n",
       "    'Description': {'@xml:lang': 'en', '#text': 'Solomon Islands'}},\n",
       "   {'@value': 'LK', 'Description': {'@xml:lang': 'en', '#text': 'Sri Lanka'}},\n",
       "   {'@value': 'TW',\n",
       "    'Description': {'@xml:lang': 'en', '#text': 'Taiwan, Province of China'}},\n",
       "   {'@value': 'TH', 'Description': {'@xml:lang': 'en', '#text': 'Thailand'}},\n",
       "   {'@value': 'TL',\n",
       "    'Description': {'@xml:lang': 'en', '#text': 'Timor-Leste'}},\n",
       "   {'@value': 'TO', 'Description': {'@xml:lang': 'en', '#text': 'Tonga'}},\n",
       "   {'@value': 'TV', 'Description': {'@xml:lang': 'en', '#text': 'Tuvalu'}},\n",
       "   {'@value': 'VU', 'Description': {'@xml:lang': 'en', '#text': 'Vanuatu'}},\n",
       "   {'@value': 'VN', 'Description': {'@xml:lang': 'en', '#text': 'Viet Nam'}},\n",
       "   {'@value': '1C_ALLC',\n",
       "    'Description': {'@xml:lang': 'en', '#text': 'All Countries'}},\n",
       "   {'@value': '1C_ALLG',\n",
       "    'Description': {'@xml:lang': 'en', '#text': 'All Country Groups'}},\n",
       "   {'@value': 'R4',\n",
       "    'Description': {'@xml:lang': 'en',\n",
       "     '#text': 'ASEAN (Countries for the Association of South-East Asian Nations)'}},\n",
       "   {'@value': '1C_229', 'Description': {'@xml:lang': 'en', '#text': 'Asia'}},\n",
       "   {'@value': 'S2',\n",
       "    'Description': {'@xml:lang': 'en', '#text': 'Eastern Asia'}},\n",
       "   {'@value': '1C_Industrial_Asia',\n",
       "    'Description': {'@xml:lang': 'en', '#text': 'Industrial Asia'}},\n",
       "   {'@value': '1C_PICs_and_Small_States',\n",
       "    'Description': {'@xml:lang': 'en', '#text': 'PICs and Small States'}},\n",
       "   {'@value': '1C_9502',\n",
       "    'Description': {'@xml:lang': 'en', '#text': 'South Asia'}}]},\n",
       " {'@id': 'CL_INDICATOR_APDREO',\n",
       "  '@agencyID': 'IMF',\n",
       "  '@version': '1.0',\n",
       "  '@isFinal': 'true',\n",
       "  '@xmlns': 'http://www.SDMX.org/resources/SDMXML/schemas/v2_0/structure',\n",
       "  'Name': {'@xml:lang': 'en', '#text': 'Indicator'},\n",
       "  'Code': [{'@value': 'BCA_GDP_BP6',\n",
       "    'Description': {'@xml:lang': 'en',\n",
       "     '#text': 'Balance of Payments, Current Account, Total, Net(BPM6), percent of GDP in U.S. dollars'}},\n",
       "   {'@value': 'PCPIE_PCH',\n",
       "    'Description': {'@xml:lang': 'en',\n",
       "     '#text': 'Consumer Prices, end of period, percent change'}},\n",
       "   {'@value': 'PCPI_PCH',\n",
       "    'Description': {'@xml:lang': 'en',\n",
       "     '#text': 'Consumer Prices, period average, percent change'}},\n",
       "   {'@value': 'GGXCNL_GDP',\n",
       "    'Description': {'@xml:lang': 'en',\n",
       "     '#text': 'General government net lending/borrowing, percent of fiscal year GDP'}},\n",
       "   {'@value': 'NGDP_RPCH',\n",
       "    'Description': {'@xml:lang': 'en',\n",
       "     '#text': 'Gross domestic product, constant prices, National Currency, percent change'}},\n",
       "   {'@value': 'NGDP_R_PPP_PC_PCH',\n",
       "    'Description': {'@xml:lang': 'en',\n",
       "     '#text': 'Gross domestic product, constant prices, purchasing power parity, per capita, percent change '}},\n",
       "   {'@value': 'LUR',\n",
       "    'Description': {'@xml:lang': 'en', '#text': 'Unemployment rate'}},\n",
       "   {'@value': 'All_Indicators',\n",
       "    'Description': {'@xml:lang': 'en', '#text': 'All Indicators'}}]},\n",
       " {'@id': 'CL_TIME_FORMAT',\n",
       "  '@agencyID': 'IMF',\n",
       "  '@version': '1.0',\n",
       "  '@isFinal': 'true',\n",
       "  '@xmlns': 'http://www.SDMX.org/resources/SDMXML/schemas/v2_0/structure',\n",
       "  'Name': {'@xml:lang': 'en', '#text': 'Time format'},\n",
       "  'Description': {'@xml:lang': 'en',\n",
       "   '#text': 'Time formats based on ISO 8601.'},\n",
       "  'Code': [{'@value': 'P1Y',\n",
       "    'Description': {'@xml:lang': 'en', '#text': 'Annual'}},\n",
       "   {'@value': 'P6M', 'Description': {'@xml:lang': 'en', '#text': 'Bi-annual'}},\n",
       "   {'@value': 'P3M', 'Description': {'@xml:lang': 'en', '#text': 'Quarterly'}},\n",
       "   {'@value': 'P1M', 'Description': {'@xml:lang': 'en', '#text': 'Monthly'}},\n",
       "   {'@value': 'P7D', 'Description': {'@xml:lang': 'en', '#text': 'Weekly'}},\n",
       "   {'@value': 'P1D', 'Description': {'@xml:lang': 'en', '#text': 'Daily'}}]}]"
      ]
     },
     "execution_count": 83,
     "metadata": {},
     "output_type": "execute_result"
    }
   ],
   "source": [
    "dimension_names"
   ]
  },
  {
   "cell_type": "code",
   "execution_count": 84,
   "id": "be2a2c18",
   "metadata": {
    "collapsed": true
   },
   "outputs": [
    {
     "ename": "PermissionError",
     "evalue": "[Errno 13] Permission denied: 'indicators/CPI.csv'",
     "output_type": "error",
     "traceback": [
      "\u001b[1;31m---------------------------------------------------------------------------\u001b[0m",
      "\u001b[1;31mPermissionError\u001b[0m                           Traceback (most recent call last)",
      "\u001b[1;32m~\\AppData\\Local\\Temp\\ipykernel_33612\\2996085864.py\u001b[0m in \u001b[0;36m<module>\u001b[1;34m\u001b[0m\n\u001b[0;32m      4\u001b[0m \u001b[1;33m\u001b[0m\u001b[0m\n\u001b[0;32m      5\u001b[0m \u001b[1;31m#Ouptuts csv file\u001b[0m\u001b[1;33m\u001b[0m\u001b[1;33m\u001b[0m\u001b[0m\n\u001b[1;32m----> 6\u001b[1;33m \u001b[0mindicators\u001b[0m\u001b[1;33m.\u001b[0m\u001b[0mto_csv\u001b[0m\u001b[1;33m(\u001b[0m\u001b[1;34mf'indicators/{dataset_name}.csv'\u001b[0m\u001b[1;33m)\u001b[0m\u001b[1;33m\u001b[0m\u001b[1;33m\u001b[0m\u001b[0m\n\u001b[0m",
      "\u001b[1;32m~\\anaconda3\\lib\\site-packages\\pandas\\core\\generic.py\u001b[0m in \u001b[0;36mto_csv\u001b[1;34m(self, path_or_buf, sep, na_rep, float_format, columns, header, index, index_label, mode, encoding, compression, quoting, quotechar, line_terminator, chunksize, date_format, doublequote, escapechar, decimal, errors, storage_options)\u001b[0m\n\u001b[0;32m   3549\u001b[0m         )\n\u001b[0;32m   3550\u001b[0m \u001b[1;33m\u001b[0m\u001b[0m\n\u001b[1;32m-> 3551\u001b[1;33m         return DataFrameRenderer(formatter).to_csv(\n\u001b[0m\u001b[0;32m   3552\u001b[0m             \u001b[0mpath_or_buf\u001b[0m\u001b[1;33m,\u001b[0m\u001b[1;33m\u001b[0m\u001b[1;33m\u001b[0m\u001b[0m\n\u001b[0;32m   3553\u001b[0m             \u001b[0mline_terminator\u001b[0m\u001b[1;33m=\u001b[0m\u001b[0mline_terminator\u001b[0m\u001b[1;33m,\u001b[0m\u001b[1;33m\u001b[0m\u001b[1;33m\u001b[0m\u001b[0m\n",
      "\u001b[1;32m~\\anaconda3\\lib\\site-packages\\pandas\\io\\formats\\format.py\u001b[0m in \u001b[0;36mto_csv\u001b[1;34m(self, path_or_buf, encoding, sep, columns, index_label, mode, compression, quoting, quotechar, line_terminator, chunksize, date_format, doublequote, escapechar, errors, storage_options)\u001b[0m\n\u001b[0;32m   1178\u001b[0m             \u001b[0mformatter\u001b[0m\u001b[1;33m=\u001b[0m\u001b[0mself\u001b[0m\u001b[1;33m.\u001b[0m\u001b[0mfmt\u001b[0m\u001b[1;33m,\u001b[0m\u001b[1;33m\u001b[0m\u001b[1;33m\u001b[0m\u001b[0m\n\u001b[0;32m   1179\u001b[0m         )\n\u001b[1;32m-> 1180\u001b[1;33m         \u001b[0mcsv_formatter\u001b[0m\u001b[1;33m.\u001b[0m\u001b[0msave\u001b[0m\u001b[1;33m(\u001b[0m\u001b[1;33m)\u001b[0m\u001b[1;33m\u001b[0m\u001b[1;33m\u001b[0m\u001b[0m\n\u001b[0m\u001b[0;32m   1181\u001b[0m \u001b[1;33m\u001b[0m\u001b[0m\n\u001b[0;32m   1182\u001b[0m         \u001b[1;32mif\u001b[0m \u001b[0mcreated_buffer\u001b[0m\u001b[1;33m:\u001b[0m\u001b[1;33m\u001b[0m\u001b[1;33m\u001b[0m\u001b[0m\n",
      "\u001b[1;32m~\\anaconda3\\lib\\site-packages\\pandas\\io\\formats\\csvs.py\u001b[0m in \u001b[0;36msave\u001b[1;34m(self)\u001b[0m\n\u001b[0;32m    239\u001b[0m         \"\"\"\n\u001b[0;32m    240\u001b[0m         \u001b[1;31m# apply compression and byte/text conversion\u001b[0m\u001b[1;33m\u001b[0m\u001b[1;33m\u001b[0m\u001b[0m\n\u001b[1;32m--> 241\u001b[1;33m         with get_handle(\n\u001b[0m\u001b[0;32m    242\u001b[0m             \u001b[0mself\u001b[0m\u001b[1;33m.\u001b[0m\u001b[0mfilepath_or_buffer\u001b[0m\u001b[1;33m,\u001b[0m\u001b[1;33m\u001b[0m\u001b[1;33m\u001b[0m\u001b[0m\n\u001b[0;32m    243\u001b[0m             \u001b[0mself\u001b[0m\u001b[1;33m.\u001b[0m\u001b[0mmode\u001b[0m\u001b[1;33m,\u001b[0m\u001b[1;33m\u001b[0m\u001b[1;33m\u001b[0m\u001b[0m\n",
      "\u001b[1;32m~\\anaconda3\\lib\\site-packages\\pandas\\io\\common.py\u001b[0m in \u001b[0;36mget_handle\u001b[1;34m(path_or_buf, mode, encoding, compression, memory_map, is_text, errors, storage_options)\u001b[0m\n\u001b[0;32m    784\u001b[0m         \u001b[1;32mif\u001b[0m \u001b[0mioargs\u001b[0m\u001b[1;33m.\u001b[0m\u001b[0mencoding\u001b[0m \u001b[1;32mand\u001b[0m \u001b[1;34m\"b\"\u001b[0m \u001b[1;32mnot\u001b[0m \u001b[1;32min\u001b[0m \u001b[0mioargs\u001b[0m\u001b[1;33m.\u001b[0m\u001b[0mmode\u001b[0m\u001b[1;33m:\u001b[0m\u001b[1;33m\u001b[0m\u001b[1;33m\u001b[0m\u001b[0m\n\u001b[0;32m    785\u001b[0m             \u001b[1;31m# Encoding\u001b[0m\u001b[1;33m\u001b[0m\u001b[1;33m\u001b[0m\u001b[0m\n\u001b[1;32m--> 786\u001b[1;33m             handle = open(\n\u001b[0m\u001b[0;32m    787\u001b[0m                 \u001b[0mhandle\u001b[0m\u001b[1;33m,\u001b[0m\u001b[1;33m\u001b[0m\u001b[1;33m\u001b[0m\u001b[0m\n\u001b[0;32m    788\u001b[0m                 \u001b[0mioargs\u001b[0m\u001b[1;33m.\u001b[0m\u001b[0mmode\u001b[0m\u001b[1;33m,\u001b[0m\u001b[1;33m\u001b[0m\u001b[1;33m\u001b[0m\u001b[0m\n",
      "\u001b[1;31mPermissionError\u001b[0m: [Errno 13] Permission denied: 'indicators/CPI.csv'"
     ]
    }
   ],
   "source": [
    "\n",
    "#indicator_list\n",
    "\n",
    "indicators = pd.DataFrame(indicator_desc, indicator_list)\n",
    "\n",
    "#Ouptuts csv file\n",
    "#indicators.to_csv(f'indicators/{dataset_name}.csv')\n"
   ]
  },
  {
   "cell_type": "code",
   "execution_count": 85,
   "id": "e49d7036",
   "metadata": {},
   "outputs": [
    {
     "data": {
      "text/html": [
       "<div>\n",
       "<style scoped>\n",
       "    .dataframe tbody tr th:only-of-type {\n",
       "        vertical-align: middle;\n",
       "    }\n",
       "\n",
       "    .dataframe tbody tr th {\n",
       "        vertical-align: top;\n",
       "    }\n",
       "\n",
       "    .dataframe thead th {\n",
       "        text-align: right;\n",
       "    }\n",
       "</style>\n",
       "<table border=\"1\" class=\"dataframe\">\n",
       "  <thead>\n",
       "    <tr style=\"text-align: right;\">\n",
       "      <th></th>\n",
       "    </tr>\n",
       "  </thead>\n",
       "  <tbody>\n",
       "  </tbody>\n",
       "</table>\n",
       "</div>"
      ],
      "text/plain": [
       "Empty DataFrame\n",
       "Columns: []\n",
       "Index: []"
      ]
     },
     "execution_count": 85,
     "metadata": {},
     "output_type": "execute_result"
    }
   ],
   "source": [
    "indicators"
   ]
  },
  {
   "cell_type": "code",
   "execution_count": 30,
   "id": "3468e60f",
   "metadata": {},
   "outputs": [
    {
     "data": {
      "text/plain": [
       "array([['Balance of Payments, Current Account, Total, Net(BPM6), percent of GDP in U.S. dollars'],\n",
       "       ['Consumer Prices, end of period, percent change'],\n",
       "       ['Consumer Prices, period average, percent change'],\n",
       "       ['General government net lending/borrowing, percent of fiscal year GDP'],\n",
       "       ['Gross domestic product, constant prices, National Currency, percent change'],\n",
       "       ['Gross domestic product, constant prices, purchasing power parity, per capita, percent change '],\n",
       "       ['Unemployment rate'],\n",
       "       ['All Indicators']], dtype=object)"
      ]
     },
     "execution_count": 30,
     "metadata": {},
     "output_type": "execute_result"
    }
   ],
   "source": [
    "indicators.values"
   ]
  },
  {
   "cell_type": "markdown",
   "id": "9b469f40",
   "metadata": {},
   "source": [
    "## Getting country codes and names (no need to run again)     "
   ]
  },
  {
   "cell_type": "code",
   "execution_count": 12,
   "id": "2c0111f0",
   "metadata": {
    "scrolled": true
   },
   "outputs": [],
   "source": [
    "'''\n",
    "country_list = pd.DataFrame()\n",
    "\n",
    "dimension_names = requests.get(f'{url}{key}').json()['Structure']['CodeLists']['CodeList']\n",
    "\n",
    "\n",
    "country_list = []\n",
    "\n",
    "for x in dimension_names:\n",
    "    if 'CL_AREA_FM201910' in x['@id']:\n",
    "        country_list.append(x['Code'])\n",
    "\n",
    "country_codes = []\n",
    "country_names = []\n",
    "\n",
    "for item in country_list[0]:\n",
    "    country_codes.append(item.get(\"@value\"))\n",
    "    country_names.append(item['Description'].get(\"#text\"))\n",
    "    \n",
    "    \n",
    "    \n",
    "country_list['Name'] = country_names\n",
    "country_list['Code'] = country_codes    \n",
    "    \n",
    "'''"
   ]
  },
  {
   "cell_type": "code",
   "execution_count": 14,
   "id": "d7e2803a",
   "metadata": {},
   "outputs": [
    {
     "ename": "AttributeError",
     "evalue": "'list' object has no attribute 'to_csv'",
     "output_type": "error",
     "traceback": [
      "\u001b[1;31m---------------------------------------------------------------------------\u001b[0m",
      "\u001b[1;31mAttributeError\u001b[0m                            Traceback (most recent call last)",
      "\u001b[1;32m~\\AppData\\Local\\Temp\\ipykernel_29480\\2255189824.py\u001b[0m in \u001b[0;36m<module>\u001b[1;34m\u001b[0m\n\u001b[0;32m      1\u001b[0m \u001b[0mcountry_codes\u001b[0m \u001b[1;33m=\u001b[0m \u001b[0mpd\u001b[0m\u001b[1;33m.\u001b[0m\u001b[0mDataFrame\u001b[0m\u001b[1;33m(\u001b[0m\u001b[0mcountry_codes\u001b[0m\u001b[1;33m)\u001b[0m\u001b[1;33m\u001b[0m\u001b[1;33m\u001b[0m\u001b[0m\n\u001b[0;32m      2\u001b[0m \u001b[1;33m\u001b[0m\u001b[0m\n\u001b[1;32m----> 3\u001b[1;33m \u001b[0mcountry_list\u001b[0m\u001b[1;33m.\u001b[0m\u001b[0mto_csv\u001b[0m\u001b[1;33m(\u001b[0m\u001b[1;34m'Country_List.csv'\u001b[0m\u001b[1;33m)\u001b[0m\u001b[1;33m\u001b[0m\u001b[1;33m\u001b[0m\u001b[0m\n\u001b[0m",
      "\u001b[1;31mAttributeError\u001b[0m: 'list' object has no attribute 'to_csv'"
     ]
    }
   ],
   "source": [
    "'''\n",
    "#Exporting country names and codes to CSV\n",
    "country_codes = pd.DataFrame(country_codes)\n",
    "\n",
    "country_list.to_csv('Country_List.csv')\n",
    "'''"
   ]
  }
 ],
 "metadata": {
  "kernelspec": {
   "display_name": "Python 3 (ipykernel)",
   "language": "python",
   "name": "python3"
  },
  "language_info": {
   "codemirror_mode": {
    "name": "ipython",
    "version": 3
   },
   "file_extension": ".py",
   "mimetype": "text/x-python",
   "name": "python",
   "nbconvert_exporter": "python",
   "pygments_lexer": "ipython3",
   "version": "3.9.13"
  }
 },
 "nbformat": 4,
 "nbformat_minor": 5
}
