{
 "cells": [
  {
   "cell_type": "code",
   "execution_count": 1,
   "id": "d589a4e2",
   "metadata": {},
   "outputs": [],
   "source": [
    "# Imports\n",
    "\n",
    "import pandas as pd\n",
    "import matplotlib as mlp\n",
    "import requests\n",
    "import pprint\n"
   ]
  },
  {
   "cell_type": "code",
   "execution_count": 14,
   "id": "277f1032",
   "metadata": {},
   "outputs": [],
   "source": [
    "# Getting list of all datasets and using a search term to narrow to what you are looking for\n",
    "\n",
    "#API link\n",
    "url = \"http://dataservices.imf.org/REST/SDMX_JSON.svc/\"\n",
    "key = 'dataflow'\n",
    "\n",
    "#Request function\n",
    "dataset = requests.get(f'{url}{key}').json()\\\n",
    "        ['Structure']['Dataflows']['Dataflow']\n",
    "\n",
    "#Search term\n",
    "search_term = 'FAS'\n"
   ]
  },
  {
   "cell_type": "markdown",
   "id": "b066de3d",
   "metadata": {},
   "source": [
    "#### Finding datasets according to search term"
   ]
  },
  {
   "cell_type": "code",
   "execution_count": 15,
   "id": "e891a0e5",
   "metadata": {
    "scrolled": false
   },
   "outputs": [
    {
     "name": "stdout",
     "output_type": "stream",
     "text": [
      "Financial Access Survey (FAS), 2015: FAS_2015\n",
      "Financial Access Survey (FAS), 2017: FAS_2017\n",
      "Financial Access Survey (FAS), 2016: FAS_2016\n",
      "Financial Access Survey (FAS), 2018: FAS_2018\n",
      "Financial Access Survey (FAS): FAS\n"
     ]
    }
   ],
   "source": [
    "data_list = []\n",
    "\n",
    "for item in dataset:\n",
    "    \n",
    "    #Run through each elemnt in dictionary and checks if same term found in #text\n",
    "    if search_term in item['Name']['#text']:\n",
    "        \n",
    "        print(f\"{item['Name']['#text']}: {item['KeyFamilyRef']['KeyFamilyID']}\")\n",
    "        data_list.append(item['KeyFamilyRef']['KeyFamilyID'])"
   ]
  },
  {
   "cell_type": "markdown",
   "id": "c9639d39",
   "metadata": {},
   "source": [
    "#### Finding the dimensions"
   ]
  },
  {
   "cell_type": "code",
   "execution_count": 16,
   "id": "8b3c5896",
   "metadata": {
    "scrolled": true
   },
   "outputs": [
    {
     "name": "stdout",
     "output_type": "stream",
     "text": [
      "Dimension 1: CL_FREQ\n",
      "Dimension 2: CL_AREA_FAS_2018\n",
      "Dimension 3: CL_INDICATOR_FAS_2018\n"
     ]
    }
   ],
   "source": [
    "#Manually entered key with dataset ID of latest year available\n",
    "key = 'DataStructure/FAS_2018'\n",
    "\n",
    "#Catching all dimensions (How the data itself is categorized)\n",
    "dimension_list = requests.get(f'{url}{key}').json()\\\n",
    "                    ['Structure']['KeyFamilies']['KeyFamily']\\\n",
    "                    ['Components']['Dimension']\n",
    "                              \n",
    "\n",
    "#Printing number of dimensions & the code\n",
    "for n, dimension in enumerate(dimension_list):\n",
    "    print(f'Dimension {n+1}: {dimension[\"@codelist\"]}')\n",
    "    \n",
    "    #Usually the last dimension is the dimension for the indicator which is saved\n",
    "    indicator_term = dimension[\"@codelist\"]"
   ]
  },
  {
   "cell_type": "markdown",
   "id": "de364903",
   "metadata": {},
   "source": [
    "#### Pulling the indicators"
   ]
  },
  {
   "cell_type": "code",
   "execution_count": 21,
   "id": "8ec2b148",
   "metadata": {
    "scrolled": true
   },
   "outputs": [],
   "source": [
    "#Requesting data to capture all indicators from that dataset\n",
    "dimension_names = requests.get(f'{url}{key}').json()['Structure']['CodeLists']['CodeList']\n",
    "\n",
    "#List for indicator list and indicator description respectively\n",
    "indicator_list = []\n",
    "indicator_desc = []\n",
    "\n",
    "#For loop runs through list to find mathcing identifier to specified indicator term then grabs the code name and description\n",
    "for y in dimension_names:\n",
    "    if indicator_term in y['@id']:\n",
    "        \n",
    "        for u in y['Code']:\n",
    "            indicator_list.append(u.get('@value'))\n",
    "            indicator_desc.append(u['Description'].get(\"#text\"))"
   ]
  },
  {
   "cell_type": "code",
   "execution_count": 22,
   "id": "be2a2c18",
   "metadata": {},
   "outputs": [],
   "source": [
    "\n",
    "#indicator_list\n",
    "\n",
    "indicators = pd.DataFrame(indicator_desc, indicator_list)\n",
    "\n",
    "#Ouptuts csv file\n",
    "#indicators.to_csv('indicators_3.csv')\n"
   ]
  },
  {
   "cell_type": "markdown",
   "id": "9b469f40",
   "metadata": {},
   "source": [
    "## Getting country codes and names (no need to run again)     "
   ]
  },
  {
   "cell_type": "code",
   "execution_count": 12,
   "id": "2c0111f0",
   "metadata": {
    "scrolled": true
   },
   "outputs": [],
   "source": [
    "'''\n",
    "country_list = pd.DataFrame()\n",
    "\n",
    "dimension_names = requests.get(f'{url}{key}').json()['Structure']['CodeLists']['CodeList']\n",
    "\n",
    "\n",
    "country_list = []\n",
    "\n",
    "for x in dimension_names:\n",
    "    if 'CL_AREA_FM201910' in x['@id']:\n",
    "        country_list.append(x['Code'])\n",
    "\n",
    "country_codes = []\n",
    "country_names = []\n",
    "\n",
    "for item in country_list[0]:\n",
    "    country_codes.append(item.get(\"@value\"))\n",
    "    country_names.append(item['Description'].get(\"#text\"))\n",
    "    \n",
    "    \n",
    "    \n",
    "country_list['Name'] = country_names\n",
    "country_list['Code'] = country_codes    \n",
    "    \n",
    "'''"
   ]
  },
  {
   "cell_type": "code",
   "execution_count": 14,
   "id": "d7e2803a",
   "metadata": {},
   "outputs": [
    {
     "ename": "AttributeError",
     "evalue": "'list' object has no attribute 'to_csv'",
     "output_type": "error",
     "traceback": [
      "\u001b[1;31m---------------------------------------------------------------------------\u001b[0m",
      "\u001b[1;31mAttributeError\u001b[0m                            Traceback (most recent call last)",
      "\u001b[1;32m~\\AppData\\Local\\Temp\\ipykernel_29480\\2255189824.py\u001b[0m in \u001b[0;36m<module>\u001b[1;34m\u001b[0m\n\u001b[0;32m      1\u001b[0m \u001b[0mcountry_codes\u001b[0m \u001b[1;33m=\u001b[0m \u001b[0mpd\u001b[0m\u001b[1;33m.\u001b[0m\u001b[0mDataFrame\u001b[0m\u001b[1;33m(\u001b[0m\u001b[0mcountry_codes\u001b[0m\u001b[1;33m)\u001b[0m\u001b[1;33m\u001b[0m\u001b[1;33m\u001b[0m\u001b[0m\n\u001b[0;32m      2\u001b[0m \u001b[1;33m\u001b[0m\u001b[0m\n\u001b[1;32m----> 3\u001b[1;33m \u001b[0mcountry_list\u001b[0m\u001b[1;33m.\u001b[0m\u001b[0mto_csv\u001b[0m\u001b[1;33m(\u001b[0m\u001b[1;34m'Country_List.csv'\u001b[0m\u001b[1;33m)\u001b[0m\u001b[1;33m\u001b[0m\u001b[1;33m\u001b[0m\u001b[0m\n\u001b[0m",
      "\u001b[1;31mAttributeError\u001b[0m: 'list' object has no attribute 'to_csv'"
     ]
    }
   ],
   "source": [
    "'''\n",
    "#Exporting country names and codes to CSV\n",
    "country_codes = pd.DataFrame(country_codes)\n",
    "\n",
    "country_list.to_csv('Country_List.csv')\n",
    "'''"
   ]
  }
 ],
 "metadata": {
  "kernelspec": {
   "display_name": "Python 3 (ipykernel)",
   "language": "python",
   "name": "python3"
  },
  "language_info": {
   "codemirror_mode": {
    "name": "ipython",
    "version": 3
   },
   "file_extension": ".py",
   "mimetype": "text/x-python",
   "name": "python",
   "nbconvert_exporter": "python",
   "pygments_lexer": "ipython3",
   "version": "3.9.13"
  }
 },
 "nbformat": 4,
 "nbformat_minor": 5
}
